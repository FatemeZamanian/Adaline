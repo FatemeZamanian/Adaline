{
 "cells": [
  {
   "cell_type": "code",
   "execution_count": 5,
   "id": "ed8b71da",
   "metadata": {},
   "outputs": [],
   "source": [
    "import numpy as np\n",
    "from sklearn.datasets import load_iris\n",
    "from numpy.linalg import inv\n",
    "from sklearn.model_selection import train_test_split\n",
    "import matplotlib.pyplot as plt"
   ]
  },
  {
   "cell_type": "code",
   "execution_count": 56,
   "id": "593fa4b0",
   "metadata": {},
   "outputs": [],
   "source": [
    "data=load_iris()\n",
    "X=data.data\n",
    "Y=data.target\n",
    "Y=Y[:100]\n",
    "X=X[:100]"
   ]
  },
  {
   "cell_type": "code",
   "execution_count": 57,
   "id": "6c19ac9f",
   "metadata": {},
   "outputs": [],
   "source": [
    "class Adaline:\n",
    "    def __init__(self):\n",
    "        pass\n",
    "    def fit(self,x_train,y_train):\n",
    "        # m=(X.T*X)^-1*X.T*Y\n",
    "        self.m=np.matmul(inv(np.matmul(x_train.T, x_train)), np.matmul(x_train.T, y_train))\n",
    "        return self.m\n",
    "    \n",
    "    def predict(self, x_test):\n",
    "        y_predict = np.matmul(x_test, self.m)\n",
    "        y=[]\n",
    "        for i in range(len(y_predict)):\n",
    "            if y_predict[i]<0.001:\n",
    "                y.append(0)\n",
    "            else:\n",
    "                y.append(1)  \n",
    "        y=np.array(y)\n",
    "        return y\n",
    "    \n",
    "    def evaluate(self,X_test,Y_test):\n",
    "        y_predict = self.predict(X_test)\n",
    "        print(y_predict)\n",
    "        count=0\n",
    "        for i in range(len(Y_test)):\n",
    "            if y_predict[i]==Y_test[i]:\n",
    "                count+=1\n",
    "        ev=count/len(Y_test)\n",
    "        return ev"
   ]
  },
  {
   "cell_type": "code",
   "execution_count": 58,
   "id": "a870f5dc",
   "metadata": {},
   "outputs": [],
   "source": [
    "model=Adaline()\n",
    "X_train, X_test, Y_train, Y_test = train_test_split(X, Y, test_size=0.25,random_state=4)\n",
    "# print(X_train, X_test, Y_train, Y_test)\n",
    "model.fit(X_train,Y_train)\n",
    "y_pr=model.predict(X_test)"
   ]
  },
  {
   "cell_type": "code",
   "execution_count": 59,
   "id": "c011d0d7",
   "metadata": {},
   "outputs": [
    {
     "name": "stdout",
     "output_type": "stream",
     "text": [
      "[1 0 1 0 1 1 1 1 1 1 1 0 1 1 0 0 0 1 0 1 1 0 1 1 1]\n"
     ]
    },
    {
     "data": {
      "text/plain": [
       "0.72"
      ]
     },
     "execution_count": 59,
     "metadata": {},
     "output_type": "execute_result"
    }
   ],
   "source": [
    "ACC=model.evaluate(X_test,Y_test)\n",
    "ACC"
   ]
  },
  {
   "cell_type": "code",
   "execution_count": 60,
   "id": "abf0467f",
   "metadata": {},
   "outputs": [],
   "source": [
    "class KNearestNeighbors:\n",
    "    def __init__(self, k):\n",
    "        self.k = k\n",
    "        \n",
    "    def fit(self, x_train, y_train):\n",
    "        self.x_train = x_train\n",
    "        self.y_train = y_train\n",
    "        self.number_class = len(np.unique(y_train))\n",
    "        \n",
    "    def distance(self,a,b):\n",
    "        dis = np.sqrt(np.sum((a-b)**2, axis = 1))\n",
    "        return dis\n",
    "        \n",
    "    def nearestNeighbors(self, x_test):\n",
    "        point_dist=[]\n",
    "        for x in x_test:\n",
    "            point_dist.append(self.distance(x,self.x_train))\n",
    "            \n",
    "        neigh_ind=[]\n",
    "        for row in point_dist:\n",
    "            near_neighbor = np.argsort(row)[:self.k]\n",
    "            neigh_ind.append(near_neighbor)\n",
    "            \n",
    "        return np.array(neigh_ind)\n",
    "    \n",
    "    def predict(self, x_test):\n",
    "        neighbors = self.nearestNeighbors(x_test)\n",
    "        y_pred=[]\n",
    "        for neighbor in neighbors:\n",
    "            y_pred.append(np.argmax(np.bincount(self.y_train[neighbor])))\n",
    "        return np.array(y_pred)\n",
    "    \n",
    "    def evaluate(self,x_test,y_test):\n",
    "        temp=[]\n",
    "        c=0\n",
    "        self.x_test=x_test\n",
    "        self.y_test=y_test\n",
    "        temp=self.predict(self.x_test)\n",
    "        for i in range(len(self.x_test)):\n",
    "            if temp[i]==self.y_test[i]:\n",
    "                c+=1\n",
    "        ev=c/len(y_test)\n",
    "        return ev"
   ]
  },
  {
   "cell_type": "code",
   "execution_count": 61,
   "id": "15b70480",
   "metadata": {},
   "outputs": [
    {
     "name": "stdout",
     "output_type": "stream",
     "text": [
      "1.0\n"
     ]
    }
   ],
   "source": [
    "knn=KNearestNeighbors(k=5)\n",
    "knn.fit(X_train,Y_train)\n",
    "av=knn.evaluate(X_test,Y_test)\n",
    "print(av)"
   ]
  },
  {
   "cell_type": "code",
   "execution_count": null,
   "id": "2967ee5b",
   "metadata": {},
   "outputs": [],
   "source": []
  }
 ],
 "metadata": {
  "kernelspec": {
   "display_name": "Python 3 (ipykernel)",
   "language": "python",
   "name": "python3"
  },
  "language_info": {
   "codemirror_mode": {
    "name": "ipython",
    "version": 3
   },
   "file_extension": ".py",
   "mimetype": "text/x-python",
   "name": "python",
   "nbconvert_exporter": "python",
   "pygments_lexer": "ipython3",
   "version": "3.8.10"
  }
 },
 "nbformat": 4,
 "nbformat_minor": 5
}
